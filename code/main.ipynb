{
 "cells": [
  {
   "cell_type": "markdown",
   "id": "d5c325df-f1d0-4689-9291-8253327e154b",
   "metadata": {},
   "source": [
    "# *SplitGP Implementation (Personlized FL)*"
   ]
  },
  {
   "cell_type": "code",
   "id": "c36d57cc-7a74-4970-8961-34106f377d82",
   "metadata": {
    "ExecuteTime": {
     "end_time": "2025-09-24T06:33:30.661023Z",
     "start_time": "2025-09-24T06:33:28.769986Z"
    }
   },
   "source": [
    "import torch\n",
    "import torch.nn as nn\n",
    "import torch.nn.functional as F\n",
    "\n",
    "# Auxiliary classifier head\n",
    "class AuxClassifier(nn.Module):\n",
    "    def __init__(self, in_channels, num_classes):\n",
    "\n",
    "        super(AuxClassifier, self).__init__()\n",
    "        self.avgpool = nn.AdaptiveAvgPool2d((4, 4))   # shrink spatial size\n",
    "        self.conv = nn.Conv2d(in_channels, 128, kernel_size=1)\n",
    "        self.fc1 = nn.Linear(128 * 4 * 4, 256)\n",
    "        self.fc2 = nn.Linear(256, num_classes)\n",
    "\n",
    "    def forward(self, x):\n",
    "        x = self.avgpool(x)         # shape -> [B, in_channels, 4, 4]\n",
    "        x = F.relu(self.conv(x))    # reduce channels\n",
    "        x = torch.flatten(x, 1)     # flatten\n",
    "        x = F.relu(self.fc1(x))     # hidden layer\n",
    "        x = self.fc2(x)             # logits\n",
    "        return x\n"
   ],
   "outputs": [],
   "execution_count": 1
  },
  {
   "cell_type": "code",
   "id": "8eab410f-18a0-4241-9229-d6610e37b6fa",
   "metadata": {
    "ExecuteTime": {
     "end_time": "2025-09-24T06:41:32.589072Z",
     "start_time": "2025-09-24T06:41:32.582517Z"
    }
   },
   "source": [
    "import torch\n",
    "import torch.nn as nn\n",
    "import torch.nn.functional as F\n",
    "\n",
    "# Auxiliary classifier head\n",
    "class AuxClassifier(nn.Module):\n",
    "    def __init__(self, in_channels, num_classes):\n",
    "        super(AuxClassifier, self).__init__()\n",
    "        self.avgpool = nn.AdaptiveAvgPool2d((4, 4))   # shrink spatial size\n",
    "        self.conv = nn.Conv2d(in_channels, 128, kernel_size=1)\n",
    "        self.fc1 = nn.Linear(128 * 4 * 4, 256)\n",
    "        self.fc2 = nn.Linear(256, num_classes)\n",
    "\n",
    "    def forward(self, x):\n",
    "        x = self.avgpool(x)         # shape -> [B, in_channels, 4, 4]\n",
    "        x = F.relu(self.conv(x))    # reduce channels\n",
    "        x = torch.flatten(x, 1)     # flatten\n",
    "        x = F.relu(self.fc1(x))     # hidden layer\n",
    "        x = self.fc2(x)             # logits\n",
    "        return x\n",
    "\n",
    "class NetWithAux(nn.Module):\n",
    "    def __init__(self, num_classes=10):\n",
    "        super(NetWithAux, self).__init__()\n",
    "\n",
    "        # First block\n",
    "        self.block1 = nn.Sequential(\n",
    "            nn.Conv2d(3, 64, 3, padding=1),\n",
    "            nn.ReLU(),\n",
    "            nn.MaxPool2d(2)   # output: [B, 64, 16, 16] for 32x32 input\n",
    "        )\n",
    "\n",
    "        # Auxiliary classifier takes features from block1\n",
    "        self.aux_head = AuxClassifier(64, num_classes)\n",
    "\n",
    "        # Second block (main path continues)\n",
    "        self.block2 = nn.Sequential(\n",
    "            nn.Conv2d(64, 128, 3, padding=1),\n",
    "            nn.ReLU(),\n",
    "            nn.MaxPool2d(2)   # output: [B, 128, 8, 8]\n",
    "        )\n",
    "\n",
    "        # Main classifier\n",
    "        self.fc_main = nn.Linear(128 * 8 * 8, num_classes)\n",
    "\n",
    "    def forward(self, x):\n",
    "        x = self.block1(x)\n",
    "\n",
    "        # Auxiliary prediction from intermediate feature map\n",
    "        aux_out = self.aux_head(x)\n",
    "\n",
    "        # Continue main path\n",
    "        x = self.block2(x)\n",
    "        x = torch.flatten(x, 1)\n",
    "        main_out = self.fc_main(x)\n",
    "\n",
    "        return main_out, aux_out\n"
   ],
   "outputs": [],
   "execution_count": 11
  },
  {
   "cell_type": "code",
   "id": "4872de18-cd77-460a-8eee-87cfccc4607d",
   "metadata": {
    "ExecuteTime": {
     "end_time": "2025-09-24T06:43:08.473417Z",
     "start_time": "2025-09-24T06:43:08.417151Z"
    }
   },
   "source": [
    "model = NetWithAux(num_classes=10)\n",
    "criterion = nn.CrossEntropyLoss()\n",
    "optimizer = torch.optim.Adam(model.parameters(), lr=0.001)\n",
    "\n",
    "\n",
    "# Fake batch (like CIFAR-10)\n",
    "images = torch.randn(16, 3, 32, 32)\n",
    "labels = torch.randint(0, 10, (16,))\n",
    "\n",
    "\n",
    "# Forward pass\n",
    "main_out, aux_out = model(images)\n",
    "\n",
    "loss_main = criterion(main_out, labels)\n",
    "loss_aux = criterion(aux_out, labels)\n",
    "\n",
    "# Combine with weight for aux loss\n",
    "loss = loss_main + 0.3 * loss_aux\n",
    "\n",
    "# Backprop + update\n",
    "optimizer.zero_grad()\n",
    "loss.backward()\n",
    "optimizer.step()\n"
   ],
   "outputs": [],
   "execution_count": 16
  },
  {
   "metadata": {},
   "cell_type": "code",
   "outputs": [],
   "execution_count": null,
   "source": "",
   "id": "a8422e3e04241aa4"
  }
 ],
 "metadata": {
  "kernelspec": {
   "display_name": "Python 3 (ipykernel)",
   "language": "python",
   "name": "python3"
  },
  "language_info": {
   "codemirror_mode": {
    "name": "ipython",
    "version": 3
   },
   "file_extension": ".py",
   "mimetype": "text/x-python",
   "name": "python",
   "nbconvert_exporter": "python",
   "pygments_lexer": "ipython3",
   "version": "3.12.3"
  }
 },
 "nbformat": 4,
 "nbformat_minor": 5
}
