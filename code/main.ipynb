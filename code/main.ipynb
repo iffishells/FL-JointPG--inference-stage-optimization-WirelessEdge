{
 "cells": [
  {
   "metadata": {},
   "cell_type": "markdown",
   "source": "# Effect of lambda on Test Accuracy of Mnist datasets",
   "id": "672121692f384867"
  },
  {
   "metadata": {},
   "cell_type": "code",
   "outputs": [],
   "execution_count": null,
   "source": "",
   "id": "902e0bfa6f40041e"
  }
 ],
 "metadata": {
  "kernelspec": {
   "display_name": "Python 3 (ipykernel)",
   "language": "python",
   "name": "python3"
  },
  "language_info": {
   "codemirror_mode": {
    "name": "ipython",
    "version": 3
   },
   "file_extension": ".py",
   "mimetype": "text/x-python",
   "name": "python",
   "nbconvert_exporter": "python",
   "pygments_lexer": "ipython3",
   "version": "3.12.3"
  }
 },
 "nbformat": 4,
 "nbformat_minor": 5
}
